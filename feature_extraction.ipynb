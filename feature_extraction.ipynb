{
 "cells": [
  {
   "cell_type": "code",
   "execution_count": 1,
   "metadata": {
    "collapsed": true
   },
   "outputs": [],
   "source": [
    "import os\n",
    "import sys\n",
    "sys.path.append('/home/simon/Research/lib/caffe/python/')\n",
    "import caffe\n",
    "caffe.set_device(0)\n",
    "caffe.set_mode_gpu()\n",
    "sys.path.append('./classification_framework2/')\n",
    "import Caffe\n",
    "import Resize\n",
    "import Crop\n",
    "import ImageReader\n",
    "import Classification\n",
    "import Dataset\n",
    "\n",
    "import h5py\n",
    "import numpy as np\n",
    "import sklearn.linear_model\n",
    "import sklearn.svm\n",
    "import random\n",
    "import pyprind\n",
    "import sklearn.svm\n",
    "import matplotlib.pyplot as plt\n",
    "%matplotlib inline"
   ]
  },
  {
   "cell_type": "code",
   "execution_count": 2,
   "metadata": {
    "collapsed": true
   },
   "outputs": [],
   "source": [
    "imagelist = './example/imagelist.txt'\n",
    "\n",
    "architecture = './models/vgg16_alpha_pooling.prototxt'\n",
    "# ImageNet model\n",
    "weights = './models/vgg16_alpha_pooling_imagenet.caffemodel'\n",
    "# INat model\n",
    "# weights = './models/vgg16_alpha_pooling_inat.caffemodel'"
   ]
  },
  {
   "cell_type": "code",
   "execution_count": 3,
   "metadata": {
    "collapsed": true
   },
   "outputs": [],
   "source": [
    "c = Classification.Classification()\n",
    "c.add_algorithm(ImageReader.ImageReader())\n",
    "s = 560\n",
    "c.add_algorithm(Resize.Resize((s,), mode='resize_smaller_side'))\n",
    "c.add_algorithm(Crop.Crop((s,s),'center'))\n",
    "c.add_algorithm(Caffe.Caffe(architecture,\n",
    "                           weights,\n",
    "                           outblob = 'bilinear_l2',\n",
    "                           batchsize = 1))"
   ]
  },
  {
   "cell_type": "code",
   "execution_count": 5,
   "metadata": {
    "collapsed": true
   },
   "outputs": [],
   "source": [
    "images = open(imagelist, 'rt').read().splitlines()"
   ]
  },
  {
   "cell_type": "code",
   "execution_count": 6,
   "metadata": {},
   "outputs": [
    {
     "name": "stderr",
     "output_type": "stream",
     "text": [
      "0%  100%\n",
      "/home/simon/bin/conda/envs/p3/lib/python3.5/site-packages/skimage/transform/_warps.py:84: UserWarning: The default mode, 'constant', will be changed to 'reflect' in skimage 0.15.\n",
      "  warn(\"The default mode, 'constant', will be changed to 'reflect' in \"\n",
      "[###] | ETA: 00:00:00\n",
      "Total time elapsed: 00:00:00\n"
     ]
    }
   ],
   "source": [
    "features = np.stack(c.compute_all(images))"
   ]
  },
  {
   "cell_type": "code",
   "execution_count": 7,
   "metadata": {},
   "outputs": [
    {
     "data": {
      "text/plain": [
       "(3, 8192, 1, 1)"
      ]
     },
     "execution_count": 7,
     "metadata": {},
     "output_type": "execute_result"
    }
   ],
   "source": [
    "features.shape"
   ]
  },
  {
   "cell_type": "code",
   "execution_count": 13,
   "metadata": {
    "collapsed": true
   },
   "outputs": [],
   "source": [
    "np.savez('./features.npz',features=features)"
   ]
  },
  {
   "cell_type": "code",
   "execution_count": null,
   "metadata": {
    "collapsed": true
   },
   "outputs": [],
   "source": []
  },
  {
   "cell_type": "code",
   "execution_count": null,
   "metadata": {
    "collapsed": true
   },
   "outputs": [],
   "source": []
  },
  {
   "cell_type": "code",
   "execution_count": null,
   "metadata": {
    "collapsed": true
   },
   "outputs": [],
   "source": []
  },
  {
   "cell_type": "code",
   "execution_count": null,
   "metadata": {
    "collapsed": true
   },
   "outputs": [],
   "source": []
  },
  {
   "cell_type": "code",
   "execution_count": null,
   "metadata": {
    "collapsed": true
   },
   "outputs": [],
   "source": []
  },
  {
   "cell_type": "code",
   "execution_count": null,
   "metadata": {
    "collapsed": true
   },
   "outputs": [],
   "source": []
  },
  {
   "cell_type": "markdown",
   "metadata": {},
   "source": [
    "### Test area"
   ]
  },
  {
   "cell_type": "code",
   "execution_count": 4,
   "metadata": {
    "collapsed": true
   },
   "outputs": [],
   "source": [
    "basedir = '/home/simon/Datasets/CUB_200_2011/'\n",
    "d = Dataset.Dataset()\n",
    "d.read_from_file('%s/imagelist_absolute.txt'%basedir, 'imagepaths','string')\n",
    "d.read_from_file('%s/labels.txt'%basedir,'labels','int')\n",
    "d.read_from_file('%s/tr_ID.txt'%basedir,'split_assignments','int')"
   ]
  },
  {
   "cell_type": "code",
   "execution_count": 5,
   "metadata": {
    "collapsed": true
   },
   "outputs": [],
   "source": [
    "train_ids = np.where(d.split_assignments)[0]\n",
    "test_ids = np.where(np.invert(np.array(d.split_assignments).astype(bool)))[0]"
   ]
  },
  {
   "cell_type": "code",
   "execution_count": 6,
   "metadata": {
    "collapsed": true
   },
   "outputs": [],
   "source": [
    "#Calc the features\n",
    "def calc_features(pipeline, images):\n",
    "    out_shape = (len(images), ) + pipeline.compute(images[0]).shape\n",
    "    feats = np.zeros(tuple(out_shape),dtype=np.float32)\n",
    "    print('feats will occupy %.4f GiB'%(feats.nbytes/1024/1024/1024))\n",
    "    for idx,impath in enumerate(pyprind.prog_bar(images)):\n",
    "        feats[idx,...] = c.compute(impath)\n",
    "    return feats"
   ]
  },
  {
   "cell_type": "code",
   "execution_count": 7,
   "metadata": {
    "scrolled": true
   },
   "outputs": [
    {
     "name": "stderr",
     "output_type": "stream",
     "text": [
      "/home/simon/bin/conda/envs/p3/lib/python3.5/site-packages/skimage/transform/_warps.py:84: UserWarning: The default mode, 'constant', will be changed to 'reflect' in skimage 0.15.\n",
      "  warn(\"The default mode, 'constant', will be changed to 'reflect' in \"\n",
      "0%                          100%\n"
     ]
    },
    {
     "name": "stdout",
     "output_type": "stream",
     "text": [
      "feats will occupy 0.1829 GiB\n"
     ]
    },
    {
     "name": "stderr",
     "output_type": "stream",
     "text": [
      "[##############################] | ETA: 00:00:00\n",
      "Total time elapsed: 00:20:28\n",
      "0%                          100%\n"
     ]
    },
    {
     "name": "stdout",
     "output_type": "stream",
     "text": [
      "feats will occupy 0.1768 GiB\n"
     ]
    },
    {
     "name": "stderr",
     "output_type": "stream",
     "text": [
      "[##############################] | ETA: 00:00:00\n",
      "Total time elapsed: 00:19:56\n"
     ]
    }
   ],
   "source": [
    "train_fv = calc_features(c, np.array(d.imagepaths)[train_ids])\n",
    "test_fv = calc_features(c, np.array(d.imagepaths)[test_ids])"
   ]
  },
  {
   "cell_type": "code",
   "execution_count": 8,
   "metadata": {},
   "outputs": [
    {
     "data": {
      "text/plain": [
       "(5994, 8192, 1, 1)"
      ]
     },
     "execution_count": 8,
     "metadata": {},
     "output_type": "execute_result"
    }
   ],
   "source": [
    "train_fv.shape"
   ]
  },
  {
   "cell_type": "code",
   "execution_count": 9,
   "metadata": {
    "collapsed": true
   },
   "outputs": [],
   "source": [
    "task = dict(train_feats=train_fv.reshape((len(train_fv),-1)),\n",
    "                                test_feats=test_fv.reshape((len(test_fv),-1)),\n",
    "                                train_Y=np.array(d.labels)[train_ids],\n",
    "                                test_Y=np.array(d.labels)[test_ids])"
   ]
  },
  {
   "cell_type": "code",
   "execution_count": 10,
   "metadata": {},
   "outputs": [
    {
     "data": {
      "text/plain": [
       "0.80272695892302381"
      ]
     },
     "execution_count": 10,
     "metadata": {},
     "output_type": "execute_result"
    }
   ],
   "source": [
    "# for comparison: explicit feature transform of linear kernel\n",
    "#model = sklearn.multiclass.OneVsRestClassifier(sklearn.svm.SVC(C=1,kernel='linear'),n_jobs=-1)\n",
    "model = sklearn.svm.LinearSVC(C=1)\n",
    "#model = sklearn.linear_model.LogisticRegression(C=10000,solver='lbfgs',multi_class='multinomial')\n",
    "model.fit(task['train_feats'],task['train_Y'])\n",
    "model.score(task['test_feats'],task['test_Y'])"
   ]
  },
  {
   "cell_type": "code",
   "execution_count": null,
   "metadata": {
    "collapsed": true
   },
   "outputs": [],
   "source": []
  },
  {
   "cell_type": "code",
   "execution_count": null,
   "metadata": {
    "collapsed": true
   },
   "outputs": [],
   "source": []
  },
  {
   "cell_type": "code",
   "execution_count": null,
   "metadata": {
    "collapsed": true
   },
   "outputs": [],
   "source": []
  },
  {
   "cell_type": "code",
   "execution_count": null,
   "metadata": {
    "collapsed": true
   },
   "outputs": [],
   "source": []
  }
 ],
 "metadata": {
  "kernelspec": {
   "display_name": "Python [default]",
   "language": "python",
   "name": "python3"
  },
  "language_info": {
   "codemirror_mode": {
    "name": "ipython",
    "version": 3
   },
   "file_extension": ".py",
   "mimetype": "text/x-python",
   "name": "python",
   "nbconvert_exporter": "python",
   "pygments_lexer": "ipython3",
   "version": "3.5.3"
  }
 },
 "nbformat": 4,
 "nbformat_minor": 2
}
